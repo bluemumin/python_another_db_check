{
 "cells": [
  {
   "cell_type": "code",
   "execution_count": null,
   "metadata": {},
   "outputs": [],
   "source": [
    "#기본 import 함수들\n",
    "import numpy as np\n",
    "import pandas as pd\n",
    "from pandas import DataFrame, Timestamp\n",
    "import os\n",
    "from datetime import datetime, timedelta"
   ]
  },
  {
   "cell_type": "code",
   "execution_count": null,
   "metadata": {},
   "outputs": [],
   "source": [
    "def SRC_TGT_count_same(SRC_query, SRC_con, TGT_query, TGT_con):\n",
    "    SRC_query  = SRC_query.replace(';','') #쿼리 마지막에 있는 ;가 있으면 쿼리 자체가 실행이 안되는 경우가 있어 제거함\n",
    "    TGT_query  = TGT_query.replace(';','')\n",
    "    \n",
    "    result = []\n",
    "    try:\n",
    "        SRC_one_result = pd.read_sql(SRC_query, con = SRC_con )\n",
    "    except:\n",
    "        result.append(-9999)\n",
    "        SRC_note = \"SRC SQL ERROR\"\n",
    "    else:\n",
    "        result.append(SRC_one_result.iloc[0][0])\n",
    "        SRC_note = \"이상없음\"\n",
    "    try:\n",
    "        TGT_one_result = pd.read_sql(TGT_query, con = TGT_con )\n",
    "    except:\n",
    "        result.append(-9999)\n",
    "        TGT_note = \"TGT SQL ERROR\"\n",
    "    else:\n",
    "        result.append(TGT_one_result.iloc[0][0])\n",
    "        TGT_note = \"이상없음\"\n",
    "\n",
    "    if SRC_note == \"이상없음\" and TGT_note == \"이상없음\":\n",
    "        result.append(\"모든 쿼리 정상 수행\")\n",
    "        result.append(SRC_one_result.iloc[0][0] - TGT_one_result.iloc[0][0])\n",
    "    elif SRC_note == \"이상없음\" and TGT_note != \"이상없음\":\n",
    "        result.append(TGT_note)\n",
    "        result.append(-9999)\n",
    "    elif SRC_note != \"이상없음\" and TGT_note == \"이상없음\":\n",
    "        result.append(SRC_note)\n",
    "        result.append(-9999)\n",
    "    else :\n",
    "        result.append(\"ALL SQL ERROR\")\n",
    "        result.append(-9999)\n",
    "        \n",
    "    result.append(datetime.now())\n",
    "    result2 = DataFrame([result], columns=['SRC_count','TGT_count','Query_Error','minus','checking_time'])\n",
    "    \n",
    "    return result2"
   ]
  }
 ],
 "metadata": {
  "hide_input": false,
  "kernelspec": {
   "display_name": "Python 3",
   "language": "python",
   "name": "python3"
  },
  "language_info": {
   "codemirror_mode": {
    "name": "ipython",
    "version": 3
   },
   "file_extension": ".py",
   "mimetype": "text/x-python",
   "name": "python",
   "nbconvert_exporter": "python",
   "pygments_lexer": "ipython3",
   "version": "3.8.5"
  },
  "toc": {
   "base_numbering": 1,
   "nav_menu": {},
   "number_sections": true,
   "sideBar": true,
   "skip_h1_title": false,
   "title_cell": "Table of Contents",
   "title_sidebar": "Contents",
   "toc_cell": false,
   "toc_position": {},
   "toc_section_display": true,
   "toc_window_display": false
  },
  "varInspector": {
   "cols": {
    "lenName": 16,
    "lenType": 16,
    "lenVar": 40
   },
   "kernels_config": {
    "python": {
     "delete_cmd_postfix": "",
     "delete_cmd_prefix": "del ",
     "library": "var_list.py",
     "varRefreshCmd": "print(var_dic_list())"
    },
    "r": {
     "delete_cmd_postfix": ") ",
     "delete_cmd_prefix": "rm(",
     "library": "var_list.r",
     "varRefreshCmd": "cat(var_dic_list()) "
    }
   },
   "types_to_exclude": [
    "module",
    "function",
    "builtin_function_or_method",
    "instance",
    "_Feature"
   ],
   "window_display": false
  }
 },
 "nbformat": 4,
 "nbformat_minor": 4
}
